{
 "cells": [
  {
   "cell_type": "code",
   "execution_count": null,
   "metadata": {},
   "outputs": [],
   "source": [
    "#Write a Python program to convert kilometers to miles?\n",
    "\n",
    "def kmtomiles(km):\n",
    "    miles_factor = 0.621\n",
    "    return km * miles_factor\n",
    "\n",
    "km = int(input('Enter the distance in Kilometer '))\n",
    "print('Distance in miles is: ',kmtomiles(km))"
   ]
  },
  {
   "cell_type": "code",
   "execution_count": null,
   "metadata": {},
   "outputs": [],
   "source": [
    "#Write a Python program to convert Celsius to Fahrenheit?\n",
    "\n",
    "def celtofah(celcius):\n",
    "    fah_factor = 1.8\n",
    "    return celcius * fah_factor + 32.0\n",
    "\n",
    "celcius = int(input('Enter the temperature in Celcius '))\n",
    "print('Temperature in Fahrenheit is ',celtofah(celcius))"
   ]
  },
  {
   "cell_type": "code",
   "execution_count": null,
   "metadata": {},
   "outputs": [],
   "source": [
    "#Write a Python program to display calendar?\n",
    "import calendar as cd\n",
    "\n",
    "year = int(input('Enter the year '))\n",
    "month = int(input('Enter the month '))\n",
    "\n",
    "print(cd.month(year, month))"
   ]
  },
  {
   "cell_type": "code",
   "execution_count": 2,
   "metadata": {},
   "outputs": [
    {
     "name": "stdout",
     "output_type": "stream",
     "text": [
      "Enter the value of A 7\n",
      "Enter the value of B 6\n",
      "Enter the value of C -1\n",
      "First answer is  0.14285714285714285\n",
      "Second answer is  -1.0\n"
     ]
    }
   ],
   "source": [
    "# Write a Python program to solve quadratic equation?\n",
    "import math as mt\n",
    "\n",
    "def quad(a,b,c):\n",
    "    '''\n",
    "    solves quadractic equations while taking the values of a, b, and c values of quadratic equation in form ax^2 + bx + c = 0\n",
    "    '''\n",
    "    discriminant = mt.sqrt(b*b - (4*a*c))\n",
    "    x1 = (-1 * b + discriminant)/(2 * a)\n",
    "    x2 = (-1 * b - discriminant)/(2 * a)\n",
    "    return(x1,x2)\n",
    "\n",
    "a = int(input('Enter the value of A '))\n",
    "b = int(input('Enter the value of B '))\n",
    "c = int(input('Enter the value of C '))\n",
    "\n",
    "x1,x2 = quad(a,b,c)\n",
    "print('First answer is ',x1)\n",
    "print('Second answer is ',x2)"
   ]
  },
  {
   "cell_type": "code",
   "execution_count": 3,
   "metadata": {},
   "outputs": [
    {
     "name": "stdout",
     "output_type": "stream",
     "text": [
      "Enter the first number: 3\n",
      "Enter the second number: 4\n",
      "Number before swapping is  3  and  4\n",
      "Number after swapping is  4  and  3\n"
     ]
    }
   ],
   "source": [
    "#Write a Python program to swap two variables without temp variable?\n",
    "\n",
    "def swap(a,b):\n",
    "    print('Number before swapping is ',a,' and ',b)\n",
    "    a,b = b,a\n",
    "    print('Number after swapping is ',a,' and ',b)\n",
    "\n",
    "a = int(input('Enter the first number: '))\n",
    "b = int(input('Enter the second number: '))\n",
    "swap(a,b)\n"
   ]
  },
  {
   "cell_type": "code",
   "execution_count": null,
   "metadata": {},
   "outputs": [],
   "source": []
  }
 ],
 "metadata": {
  "kernelspec": {
   "display_name": "Python 3",
   "language": "python",
   "name": "python3"
  },
  "language_info": {
   "codemirror_mode": {
    "name": "ipython",
    "version": 3
   },
   "file_extension": ".py",
   "mimetype": "text/x-python",
   "name": "python",
   "nbconvert_exporter": "python",
   "pygments_lexer": "ipython3",
   "version": "3.7.6"
  }
 },
 "nbformat": 4,
 "nbformat_minor": 4
}
