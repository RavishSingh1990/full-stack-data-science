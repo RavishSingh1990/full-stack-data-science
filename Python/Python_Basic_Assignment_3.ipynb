{
 "cells": [
  {
   "cell_type": "markdown",
   "metadata": {},
   "source": [
    "1.Why are functions advantageous to have in your programs?\n",
    "\n",
    "Answer:\n",
    "\n",
    "Funtion is a used for clubbing together a group of statments which perform a common task. \n",
    "Function helps us to write modular code. \n",
    "Function help us to write a feature/functionality once that can be used any number of times."
   ]
  },
  {
   "cell_type": "markdown",
   "metadata": {},
   "source": [
    "2.When does the code in a function run: when it's specified or when it's called?\n",
    "\n",
    "Answer:\n",
    "\n",
    "Code in a function is run when it is called by the program.\n"
   ]
  },
  {
   "cell_type": "markdown",
   "metadata": {},
   "source": [
    "3.What statement creates a function?\n",
    "\n",
    "Answer:\n",
    "\n",
    "In python a function is created using def keyword. For example\n",
    "\n",
    "def func1():\n",
    "\n",
    "    pass\n",
    "\n",
    "here in above example, A function func1 is being created using def keyword"
   ]
  },
  {
   "cell_type": "markdown",
   "metadata": {},
   "source": [
    "4.What is the difference between a function and a function call?\n",
    "\n",
    "Answer:\n",
    "\n",
    "A function refer to the function definition, A function is a set of statments that perform a common task.\n",
    "\n",
    "example\n",
    "\n",
    "def func1():\n",
    "    \n",
    "    pass\n",
    "  \n",
    "After defining a function, the function needed to be called for its intended usage to work. A function is called using following.\n",
    "\n",
    "func1()\n",
    "\n"
   ]
  },
  {
   "cell_type": "markdown",
   "metadata": {},
   "source": [
    "5.How many global scopes are there in a Python program? How many local scopes?\n",
    "\n",
    "Answer:\n",
    "\n",
    "There is only one Global scope in python and this scope is there until the program terminates.\n",
    "\n",
    "local scopes can be any number as we can have n number of local variables defined under n number of functions. \n"
   ]
  },
  {
   "cell_type": "markdown",
   "metadata": {},
   "source": [
    "6.What happens to variables in a local scope when the function call returns?\n",
    "\n",
    "Answer:\n",
    "\n",
    "Once the function call returns, the variables defined in local scopes becomes free or we can say that they becomes undefined.\n"
   ]
  },
  {
   "cell_type": "markdown",
   "metadata": {},
   "source": [
    "7. What is the concept of a return value? Is it possible to have a return value in an expression?\n",
    "\n",
    "Answer:\n",
    "\n",
    "Return value is the value that a function is producing on completing its execution. For example\n",
    "\n",
    "def func1():\n",
    "    \n",
    "    return 1\n",
    "\n",
    "here above function is returning a value 1 thus the return value of the function is 1.\n",
    "\n",
    "Yes we can have a return value in a expression for example\n",
    "\n",
    "def func2():\n",
    "    \n",
    "    return 2+2\n",
    "\n",
    "here in above example we are returning a sum expression from func2() "
   ]
  },
  {
   "cell_type": "markdown",
   "metadata": {},
   "source": [
    "8.If a function does not have a return statement, what is the return value of a call to that function?\n",
    "\n",
    "Answer:\n",
    "\n",
    "the type of return value for a function not having any return statement is NoneType. For Example\n",
    "\n",
    "def func1():\n",
    "    \n",
    "    pass\n",
    "\n",
    "a = func1()\n",
    "\n",
    "type(a)\n",
    "\n",
    "output ==> NoneType\n"
   ]
  },
  {
   "cell_type": "markdown",
   "metadata": {},
   "source": [
    "9.How do you make a function variable refer to the global variable?\n",
    "\n",
    "Answer:\n",
    "\n",
    "Global variable are referred using global keyword. For example\n",
    "\n",
    "x = 'Global'\n",
    "\n",
    "def func1():\n",
    "\n",
    "    global x\n",
    "    \n",
    "    x = 'Global Updated'\n",
    "    \n",
    "func1()\n",
    "\n",
    "print(x)\n",
    "\n",
    "output==> Gobal Updated"
   ]
  },
  {
   "cell_type": "markdown",
   "metadata": {},
   "source": [
    "10.What is the data type of None?\n",
    "\n",
    "Answer:\n",
    "NoneType"
   ]
  },
  {
   "cell_type": "markdown",
   "metadata": {},
   "source": [
    "11.What does the sentence import areallyourpetsnamederic do?\n",
    "\n",
    "Answer:\n",
    "\n",
    "using above import statement, \n",
    "\n",
    "our python module will be able toaccess all the features/functionality of areallyourpetsnamederic module in our current module"
   ]
  },
  {
   "cell_type": "markdown",
   "metadata": {},
   "source": [
    "12.If you had a bacon() feature in a spam module, what would you call it after importing spam?\n",
    "\n",
    "Answer:\n",
    "\n",
    "all the function in spam can be imported using following \n",
    "\n",
    "import spam as s\n",
    "\n",
    "for calling bacon() we will use following\n",
    "\n",
    "s.bacon()\n",
    "\n",
    "here bacon() will be know as imported function in our current module."
   ]
  },
  {
   "cell_type": "markdown",
   "metadata": {},
   "source": [
    "13.What can you do to save a programme from crashing if it encounters an error?\n",
    "\n",
    "Answer:\n",
    "\n",
    "    \n",
    "For preventing a programme from crashing by handling the problems or error that a programme can encounter during execution and then we can gracefully exit the programme execution.\n",
    "\n",
    "\n",
    "for example, we can handle divide by zero error using try block.\n",
    "    "
   ]
  },
  {
   "cell_type": "markdown",
   "metadata": {},
   "source": [
    "14.What is the purpose of the try clause? What is the purpose of the except clause?\n",
    "\n",
    "Answer:\n",
    "    \n",
    "try and except statement runs the code under the “try” statement. If this code does not execute successfully or any error occurs while execution, the program will stop at the line that caused the error and the “except” code will run. For example\n",
    "\n",
    "def funct():\n",
    "    \n",
    "    try:\n",
    "        \n",
    "        d = 5/0\n",
    "    \n",
    "    except Exception as e:\n",
    "        print(e)"
   ]
  },
  {
   "cell_type": "code",
   "execution_count": null,
   "metadata": {},
   "outputs": [],
   "source": []
  }
 ],
 "metadata": {
  "kernelspec": {
   "display_name": "Python 3",
   "language": "python",
   "name": "python3"
  },
  "language_info": {
   "codemirror_mode": {
    "name": "ipython",
    "version": 3
   },
   "file_extension": ".py",
   "mimetype": "text/x-python",
   "name": "python",
   "nbconvert_exporter": "python",
   "pygments_lexer": "ipython3",
   "version": "3.7.6"
  }
 },
 "nbformat": 4,
 "nbformat_minor": 4
}
