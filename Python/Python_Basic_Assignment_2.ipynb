{
 "cells": [
  {
   "cell_type": "markdown",
   "metadata": {},
   "source": [
    "1.What are the two values of the Boolean data type? How do you write them?\n",
    "\n",
    "Answer:\n",
    "\n",
    "Boolean data type take two values, either true or false. For example.\n",
    "a = True\n",
    "b = False"
   ]
  },
  {
   "cell_type": "markdown",
   "metadata": {},
   "source": [
    "2.What are the three different types of Boolean operators?\n",
    "\n",
    "Answer:\n",
    "\n",
    "Three boolean operators also known as logical operators\n",
    "a. and\n",
    "b. or\n",
    "c. not"
   ]
  },
  {
   "cell_type": "markdown",
   "metadata": {},
   "source": [
    "3.Make a list of each Boolean operator's truth tables\n",
    "\n",
    "Answer:\n",
    "\n",
    "a. and operator\n",
    "\n",
    "    INPUTA    INPUTB     OUTPUT\n",
    "    True      True       True\n",
    "    True      False      False\n",
    "    False     True       False\n",
    "    False     False      False\n",
    "\n",
    "b. or operator\n",
    "\n",
    "    INPUTA    INPUTB     OUTPUT\n",
    "    True      True       True\n",
    "    True      False      True\n",
    "    False     True       True\n",
    "    False     False      False\n",
    "    \n",
    "c.  not operator\n",
    "\n",
    "    INPUT    OUTPUT\n",
    "    True     False\n",
    "    False    True"
   ]
  },
  {
   "cell_type": "markdown",
   "metadata": {},
   "source": [
    "4.What are the values of the following expressions?\n",
    "\n",
    "(5 > 4) and (3 == 5)  ==> False\n",
    "\n",
    "not (5 > 4) ==> False\n",
    "\n",
    "(5 > 4) or (3 == 5) ==> True\n",
    "\n",
    "not ((5 > 4) or (3 == 5)) ==> False\n",
    "\n",
    "(True and True) and (True == False) ==> False\n",
    "\n",
    "(not False) or (not True) ==> True"
   ]
  },
  {
   "cell_type": "markdown",
   "metadata": {},
   "source": [
    "5.What are the six comparison operators?\n",
    "Answer\n",
    "\n",
    "a. less than, <\n",
    "\n",
    "b. less than equal to, <=\n",
    "\n",
    "c. greater than, >\n",
    "\n",
    "d. greater than equal to, >= \n",
    "\n",
    "e. equal to, ==\n",
    "\n",
    "f. not equal to, !="
   ]
  },
  {
   "cell_type": "markdown",
   "metadata": {},
   "source": [
    "6.How do you tell the difference between the equal to and assignment operators?Describe a condition and when you would use one.\n",
    "\n",
    "Answer:\n",
    "\n",
    "Equal to operation is represented as ==, where as assignement operator is represented as = \n",
    "\n",
    "Equal to operation is a comparison operator used for comparing one variable to another, where as assignemt operator is used for assigning a value to a variable\n",
    "\n",
    "for example in if block for condition check we use equal to as following \n",
    "\n",
    "if a == 10:\n",
    "    pass\n",
    "\n",
    "\n",
    "and we use assinment as following\n",
    "\n",
    "a = 10"
   ]
  },
  {
   "cell_type": "markdown",
   "metadata": {},
   "source": [
    "7.dentify the three blocks in this code:\n",
    "\n",
    "spam = 0\n",
    "\n",
    "#First block\n",
    "\n",
    "if spam == 10:\n",
    "\n",
    "    print('eggs')\n",
    "\n",
    "#Second Block\n",
    "\n",
    "if spam > 5:\n",
    "    \n",
    "    print('bacon')\n",
    "\n",
    "#Third Block\n",
    "\n",
    "else:\n",
    "    \n",
    "    print('ham')\n",
    "    \n",
    "    print('spam')\n",
    "    \n",
    "    print('spam')\n",
    "    \n",
    "    "
   ]
  },
  {
   "cell_type": "markdown",
   "metadata": {},
   "source": [
    "8.Write code that prints Hello if 1 is stored in spam, prints Howdy if 2 is stored in spam, and prints Greetings! if anything else is stored in spam."
   ]
  },
  {
   "cell_type": "code",
   "execution_count": 5,
   "metadata": {},
   "outputs": [
    {
     "name": "stdout",
     "output_type": "stream",
     "text": [
      "Enter the value for spam 3\n",
      "Greetings!\n"
     ]
    }
   ],
   "source": [
    "spam  = int(input('Enter the value for spam '))\n",
    "if spam == 1:\n",
    "    print('Hello')\n",
    "elif spam == 2:\n",
    "    print('Howdy')\n",
    "else:\n",
    "    print('Greetings!')"
   ]
  },
  {
   "cell_type": "markdown",
   "metadata": {},
   "source": [
    "9.If your programme is stuck in an endless loop, what keys you’ll press?\n",
    "\n",
    "Answer: \n",
    "\n",
    "For breaking from infinite loop we use following keys\n",
    "\n",
    "'ctrl+c'"
   ]
  },
  {
   "cell_type": "markdown",
   "metadata": {},
   "source": [
    "10.How can you tell the difference between break and continue?\n",
    "\n",
    "Answer:\n",
    "\n",
    "break is used for interrupting the execution of the loop and resuming the execution from the statement after the loop block.\n",
    "\n",
    "for example\n",
    "\n",
    "text = 'sample'\n",
    "\n",
    "for i in text:\n",
    "\n",
    "    if i == 'm':\n",
    "    \n",
    "        break\n",
    "    \n",
    "    print(i)\n",
    "    \n",
    "print('outside the loop')\n",
    "\n",
    "here in above example, the loop will terminate when i == 'm' and the program flow will resume at the first statement after the loop block.\n",
    "\n",
    "continue statement stops the execution of the remaining statement of the loop and start with next iteration\n",
    "\n",
    "for example\n",
    "\n",
    "text = 'sample'\n",
    "\n",
    "for i in text:\n",
    "\n",
    "    if i == 'm':\n",
    "    \n",
    "        continue\n",
    "    \n",
    "    print(i)\n",
    "    \n",
    "print('outside the loop')\n",
    "\n",
    "in above loop when i == 'm' then print(i) will not be executed and flow will continue for the next value of i generating following output\n",
    "\n",
    "s\n",
    "\n",
    "a\n",
    "\n",
    "p\n",
    "\n",
    "l\n",
    "\n",
    "e\n",
    "\n",
    "outside the loop"
   ]
  },
  {
   "cell_type": "markdown",
   "metadata": {},
   "source": [
    "11.In a for loop, what is the difference between range(10), range(0, 10), and range(0, 10, 1)?\n",
    "\n",
    "Answer:\n",
    "\n",
    "All three variants are same and will generate a range from 0 to 9 for iteration like following\n",
    "\n",
    "[0,1,2,3,4,5,6,7,8,9]"
   ]
  },
  {
   "cell_type": "markdown",
   "metadata": {},
   "source": [
    "12.Write a short program that prints the numbers 1 to 10 using a for loop. Then write an equivalent program that prints the numbers 1 to 10 using a while loop.\n"
   ]
  },
  {
   "cell_type": "code",
   "execution_count": 7,
   "metadata": {},
   "outputs": [
    {
     "name": "stdout",
     "output_type": "stream",
     "text": [
      "1\n",
      "2\n",
      "3\n",
      "4\n",
      "5\n",
      "6\n",
      "7\n",
      "8\n",
      "9\n",
      "10\n"
     ]
    }
   ],
   "source": [
    "for i in range(1,11,1):\n",
    "    print(i)"
   ]
  },
  {
   "cell_type": "code",
   "execution_count": 8,
   "metadata": {},
   "outputs": [
    {
     "name": "stdout",
     "output_type": "stream",
     "text": [
      "1\n",
      "2\n",
      "3\n",
      "4\n",
      "5\n",
      "6\n",
      "7\n",
      "8\n",
      "9\n",
      "10\n"
     ]
    }
   ],
   "source": [
    "i = 1\n",
    "while i < 11:\n",
    "    print(i)\n",
    "    i = i + 1"
   ]
  },
  {
   "cell_type": "markdown",
   "metadata": {},
   "source": [
    "13.If you had a function named bacon() inside a module named spam, how would you call it after importing spam?\n",
    "\n",
    "Answer:\n",
    "\n",
    "for calling a function bacon() from another module spam. We do following\n",
    "\n",
    "import spam as s\n",
    "\n",
    "s.bacon()"
   ]
  },
  {
   "cell_type": "code",
   "execution_count": null,
   "metadata": {},
   "outputs": [],
   "source": []
  }
 ],
 "metadata": {
  "kernelspec": {
   "display_name": "Python 3",
   "language": "python",
   "name": "python3"
  },
  "language_info": {
   "codemirror_mode": {
    "name": "ipython",
    "version": 3
   },
   "file_extension": ".py",
   "mimetype": "text/x-python",
   "name": "python",
   "nbconvert_exporter": "python",
   "pygments_lexer": "ipython3",
   "version": "3.7.6"
  }
 },
 "nbformat": 4,
 "nbformat_minor": 4
}
