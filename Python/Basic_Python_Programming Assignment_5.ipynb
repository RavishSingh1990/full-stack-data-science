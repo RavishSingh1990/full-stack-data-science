{
 "cells": [
  {
   "cell_type": "code",
   "execution_count": 9,
   "metadata": {},
   "outputs": [
    {
     "name": "stdout",
     "output_type": "stream",
     "text": [
      "Enter the first number 15\n",
      "Enter the second number 20\n",
      "60.0\n"
     ]
    }
   ],
   "source": [
    "#1. Write a Python Program to Find LCM?\n",
    "#a x b = LCM(a, b) x GCD(a, b)\n",
    "\n",
    "#LCM(a, b) = (a x b) / GCD(a, b)\n",
    "def hcf(x,y):\n",
    "    common_factor = 1\n",
    "    if x > y:\n",
    "        x,y = y,x\n",
    "    for i in range(1,x+1):\n",
    "        if x%i == 0 and y%i==0:\n",
    "           common_factor = i\n",
    "    return common_factor\n",
    "\n",
    "def lcm(hcf,x,y):\n",
    "    return (x*y)/hcf(x,y)\n",
    "\n",
    "x = int(input('Enter the first number '))\n",
    "y = int(input('Enter the second number '))\n",
    "print(lcm(hcf,x,y))\n"
   ]
  },
  {
   "cell_type": "code",
   "execution_count": 10,
   "metadata": {},
   "outputs": [
    {
     "name": "stdout",
     "output_type": "stream",
     "text": [
      "Enter the first number 15\n",
      "Enter the second number 30\n",
      "15\n"
     ]
    }
   ],
   "source": [
    "#2. Write a Python Program to Find HCF?\n",
    "\n",
    "def hcf(x,y):\n",
    "    common_factor = 1\n",
    "    if x > y:\n",
    "        x,y = y,x\n",
    "    for i in range(1,x+1):\n",
    "        if x%i == 0 and y%i==0:\n",
    "           common_factor = i\n",
    "    return common_factor\n",
    "x = int(input('Enter the first number '))\n",
    "y = int(input('Enter the second number '))\n",
    "print(hcf(x,y))\n"
   ]
  },
  {
   "cell_type": "code",
   "execution_count": 11,
   "metadata": {},
   "outputs": [
    {
     "name": "stdout",
     "output_type": "stream",
     "text": [
      "Enter the number to be converted 10\n",
      "The decimal of given number is  10\n",
      "0b1010 in binary.\n",
      "0o12 in octal.\n",
      "0xa in hexadecimal.\n"
     ]
    }
   ],
   "source": [
    "#3. Write a Python Program to Convert Decimal to Binary, Octal and Hexadecimal?\n",
    "def number_conversion(x):\n",
    "    print('The decimal of given number is ',x)\n",
    "    print(bin(x), \"in binary.\")\n",
    "    print(oct(x), \"in octal.\")\n",
    "    print(hex(x), \"in hexadecimal.\")\n",
    "\n",
    "x = int(input('Enter the number to be converted '))\n",
    "number_conversion(x)"
   ]
  },
  {
   "cell_type": "code",
   "execution_count": 16,
   "metadata": {},
   "outputs": [
    {
     "name": "stdout",
     "output_type": "stream",
     "text": [
      "Enter the charactor to be converted w\n",
      "Ascii value of  w  is  119\n"
     ]
    }
   ],
   "source": [
    "#4. Write a Python Program To Find ASCII value of a character?\n",
    "\n",
    "def ascii_conversion(c):\n",
    "    return ord(c)\n",
    "\n",
    "c = input('Enter the charactor to be converted ')\n",
    "print('Ascii value of ',c,' is ',ascii_conversion(c))"
   ]
  },
  {
   "cell_type": "code",
   "execution_count": 23,
   "metadata": {},
   "outputs": [
    {
     "name": "stdout",
     "output_type": "stream",
     "text": [
      "Enter the numbers to be operated on \n",
      "3 4\n",
      "Enter the operation to be performed add/subs/mul/divadd\n",
      "The addition of the given number is  7\n",
      "Want to continue yes or no: yes\n",
      "Enter the numbers to be operated on \n",
      "3 4\n",
      "Enter the operation to be performed add/subs/mul/divsubs\n",
      "The substraction of the given number is  -1\n",
      "Want to continue yes or no: yes\n",
      "Enter the numbers to be operated on \n",
      "3 4\n",
      "Enter the operation to be performed add/subs/mul/divmul\n",
      "The product of the given numbers is  12\n",
      "Want to continue yes or no: yes\n",
      "Enter the numbers to be operated on \n",
      "3 4\n",
      "Enter the operation to be performed add/subs/mul/divdiv\n",
      "The division of the given numbers is  0.75\n",
      "Want to continue yes or no: no\n"
     ]
    }
   ],
   "source": [
    "#5. Write a Python Program to Make a Simple Calculator with 4 basic mathematical operations?\n",
    "\n",
    "def add(x,y):\n",
    "    return x+y\n",
    "\n",
    "def substract(x,y):\n",
    "    return x-y\n",
    "\n",
    "def multiply(x,y):\n",
    "    return x*y\n",
    "\n",
    "def divide(x,y):\n",
    "    return x/y\n",
    "\n",
    "\n",
    "operation = 'yes'\n",
    "while operation == 'yes':\n",
    "    print('Enter the numbers to be operated on ')\n",
    "    x,y = [int(x) for x in input().split()]\n",
    "    op = input('Enter the operation to be performed add/subs/mul/div')\n",
    "    if op == 'add':\n",
    "        print('The addition of the given number is ',add(x,y))\n",
    "    elif op == 'subs':\n",
    "        print('The substraction of the given number is ',substract(x,y))\n",
    "    elif op == 'mul':\n",
    "        print('The product of the given numbers is ',multiply(x,y))\n",
    "    elif op == 'div':\n",
    "        print('The division of the given numbers is ',divide(x,y))\n",
    "    else:\n",
    "        print('Enter correct option')\n",
    "    operation = input('Want to continue yes or no: ')\n"
   ]
  },
  {
   "cell_type": "code",
   "execution_count": null,
   "metadata": {},
   "outputs": [],
   "source": []
  },
  {
   "cell_type": "code",
   "execution_count": null,
   "metadata": {},
   "outputs": [],
   "source": []
  }
 ],
 "metadata": {
  "kernelspec": {
   "display_name": "Python 3",
   "language": "python",
   "name": "python3"
  },
  "language_info": {
   "codemirror_mode": {
    "name": "ipython",
    "version": 3
   },
   "file_extension": ".py",
   "mimetype": "text/x-python",
   "name": "python",
   "nbconvert_exporter": "python",
   "pygments_lexer": "ipython3",
   "version": "3.7.6"
  }
 },
 "nbformat": 4,
 "nbformat_minor": 4
}
