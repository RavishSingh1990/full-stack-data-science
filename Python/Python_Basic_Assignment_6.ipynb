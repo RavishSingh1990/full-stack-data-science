{
 "cells": [
  {
   "cell_type": "code",
   "execution_count": null,
   "metadata": {},
   "outputs": [],
   "source": [
    "1. What are escape characters, and how do you use them?\n",
    "\n",
    "Answer:\n",
    "    \n",
    "Escape characters are used to represent characters in string values that are difficult to type into code.\n"
   ]
  },
  {
   "cell_type": "code",
   "execution_count": null,
   "metadata": {},
   "outputs": [],
   "source": [
    "2. What do the escape characters n and t stand for?\n",
    "\n",
    "Answer:\n",
    "\n",
    "\\n stands for new line.\n",
    "\\t stands for tab space."
   ]
  },
  {
   "cell_type": "code",
   "execution_count": null,
   "metadata": {},
   "outputs": [],
   "source": [
    "3. What is the way to include backslash characters in a string?\n",
    "\n",
    "Answer:\n",
    "\n",
    "backslash can be represented using escape character with backslash\n",
    "\n",
    "\\\\\n"
   ]
  },
  {
   "cell_type": "code",
   "execution_count": null,
   "metadata": {},
   "outputs": [],
   "source": [
    "4. The string \"Howl&'s Moving Castle\" is a correct value. Why isn't the single quote character in the\n",
    "word Howl's not escaped a problem?\n",
    "\n",
    "Answer:\n",
    "\n",
    "This is fine because we have used double quotes in the begining of the string itself."
   ]
  },
  {
   "cell_type": "code",
   "execution_count": null,
   "metadata": {},
   "outputs": [],
   "source": [
    "5. How do you write a string of newlines if you don't want to use the n character?\n",
    "\n",
    "Answer:\n",
    "\n",
    "We can use multiline strings like following\n",
    "\n",
    "descrption = \"\"\"this book is a nice book and,\n",
    "covers various aspects of life,\n",
    "Please do read this book\"\"\""
   ]
  },
  {
   "cell_type": "code",
   "execution_count": null,
   "metadata": {},
   "outputs": [],
   "source": [
    "6. What are the values of the given expressions?\n",
    "\n",
    "Answer:\n",
    "\n",
    "'Hello, world!'[1] ==> 'e'\n",
    "'Hello, world!'[0:5] ==> 'Hello'\n",
    "'Hello, world!'[:5]  ==> 'Hello'\n",
    "'Hello, world!'[3:] ==> 'lo, world!'\n"
   ]
  },
  {
   "cell_type": "code",
   "execution_count": null,
   "metadata": {},
   "outputs": [],
   "source": [
    "7. What are the values of the following expressions?\n",
    "\n",
    "Answer:\n",
    "\n",
    "'Hello'.upper()           ==> 'HELLO'\n",
    "'Hello'.upper().isupper() ==> True\n",
    "'Hello'.upper().lower()   ==> 'hello'"
   ]
  },
  {
   "cell_type": "code",
   "execution_count": null,
   "metadata": {},
   "outputs": [],
   "source": [
    "8. What are the values of the following expressions?\n",
    "\n",
    "Answer:\n",
    "\n",
    "'Remember, remember, the fifth of July.'.split() ==> ['Remember,', 'remember,', 'the', 'fifth', 'of', 'July.']\n",
    "'-'.join('There can only one.'.split())          ==> 'There-can-only-one.'"
   ]
  },
  {
   "cell_type": "code",
   "execution_count": null,
   "metadata": {},
   "outputs": [],
   "source": [
    "9. What are the methods for right-justifying, left-justifying, and centering a string?\n",
    "\n",
    "Answer:\n",
    "\n",
    "right-justifying   ==> rjust() \n",
    "left-justifying    ==> ljust()\n",
    "centering a string ==> center()"
   ]
  },
  {
   "cell_type": "code",
   "execution_count": null,
   "metadata": {},
   "outputs": [],
   "source": [
    "10. What is the best way to remove whitespace characters from the start or end?\n",
    "\n",
    "Answer:\n",
    "\n",
    "Following functions are used for removing whitespaces\n",
    "lstrip() \n",
    "rstrip()"
   ]
  },
  {
   "cell_type": "code",
   "execution_count": null,
   "metadata": {},
   "outputs": [],
   "source": []
  }
 ],
 "metadata": {
  "kernelspec": {
   "display_name": "Python 3",
   "language": "python",
   "name": "python3"
  },
  "language_info": {
   "codemirror_mode": {
    "name": "ipython",
    "version": 3
   },
   "file_extension": ".py",
   "mimetype": "text/x-python",
   "name": "python",
   "nbconvert_exporter": "python",
   "pygments_lexer": "ipython3",
   "version": "3.7.6"
  }
 },
 "nbformat": 4,
 "nbformat_minor": 4
}
