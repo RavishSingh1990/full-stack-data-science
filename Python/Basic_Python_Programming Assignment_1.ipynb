{
 "cells": [
  {
   "cell_type": "code",
   "execution_count": 1,
   "metadata": {},
   "outputs": [
    {
     "name": "stdout",
     "output_type": "stream",
     "text": [
      "Hello Python\n"
     ]
    }
   ],
   "source": [
    "#1. Write a Python program to print \"Hello Python\"?\n",
    "\n",
    "print('Hello Python')"
   ]
  },
  {
   "cell_type": "code",
   "execution_count": 11,
   "metadata": {},
   "outputs": [
    {
     "name": "stdout",
     "output_type": "stream",
     "text": [
      "Enter the first number: 5\n",
      "Enter the second number: 6\n",
      "Addition of numbers is  11\n",
      "Result after division is  0.8333333333333334\n"
     ]
    }
   ],
   "source": [
    "#Write a Python program to do arithmetical operations addition and division.?\n",
    "\n",
    "def addition(a,b):\n",
    "    return a+b\n",
    "\n",
    "def division(a,b):\n",
    "    try:\n",
    "        c = a/b\n",
    "        return c\n",
    "    except Exception as E:\n",
    "        return \"Exception Raised for Division Operation: \"+str(E)\n",
    "\n",
    "a = int(input('Enter the first number: '))\n",
    "b = int(input('Enter the second number: '))\n",
    "print('Addition of numbers is ',addition(a,b))\n",
    "print('Result after division is ',division(a,b))"
   ]
  },
  {
   "cell_type": "code",
   "execution_count": 19,
   "metadata": {},
   "outputs": [
    {
     "name": "stdout",
     "output_type": "stream",
     "text": [
      "Enter the first side of the Triangle: 4\n",
      "Enter the second side of the Triangle: 5\n",
      "Enter the third side of the Triange: 6\n"
     ]
    },
    {
     "data": {
      "text/plain": [
       "9.921567416492215"
      ]
     },
     "execution_count": 19,
     "metadata": {},
     "output_type": "execute_result"
    }
   ],
   "source": [
    "#Write a Python program to find the area of a triangle?\n",
    "import math as mt\n",
    "\n",
    "class Triangle_Exception(Exception):\n",
    "    pass\n",
    "\n",
    "def Triangle_Area(a,b,c):\n",
    "    try:\n",
    "        if (a + b < c) or (a + c < b) or (b + c < a) :\n",
    "            raise Triangle_Exception\n",
    "        else:\n",
    "            s = (a + b + c) / 2\n",
    "            area = s * (s-a) * (s-b) * (s-c)\n",
    "            return mt.sqrt(area)\n",
    "    except Triangle_Exception:\n",
    "        print('Exception Raised: Please enter correct sides for triange')\n",
    "\n",
    "a = int(input('Enter the first side of the Triangle: '))\n",
    "b = int(input('Enter the second side of the Triangle: '))\n",
    "c = int(input('Enter the third side of the Triange: '))\n",
    "Triangle_Area(a,b,c)"
   ]
  },
  {
   "cell_type": "code",
   "execution_count": 24,
   "metadata": {},
   "outputs": [
    {
     "name": "stdout",
     "output_type": "stream",
     "text": [
      "Enter the first number: 3\n",
      "Enter the second number: 4\n",
      "Number before swapping is  3  and  4\n",
      "Number after swapping is  4  and  3\n"
     ]
    }
   ],
   "source": [
    "#Write a Python program to swap two variables?\n",
    "\n",
    "def swap(a,b):\n",
    "    print('Number before swapping is ',a,' and ',b)\n",
    "    a,b = b,a\n",
    "    print('Number after swapping is ',a,' and ',b)\n",
    "\n",
    "a = int(input('Enter the first number: '))\n",
    "b = int(input('Enter the second number: '))\n",
    "swap(a,b)"
   ]
  },
  {
   "cell_type": "code",
   "execution_count": 28,
   "metadata": {},
   "outputs": [
    {
     "name": "stdout",
     "output_type": "stream",
     "text": [
      "Enter the starting number: 200\n",
      "Enter the end number: 300\n",
      "Random Number generated is  244\n"
     ]
    }
   ],
   "source": [
    "#Write a Python program to generate a random number?\n",
    "\n",
    "import random\n",
    "def generate_random(start,end):\n",
    "    try:\n",
    "        if start > end:\n",
    "            raise ValueError\n",
    "        else:\n",
    "            return random.randint(start,end)\n",
    "    except ValueError as V:\n",
    "        print('Raise Exception for the function')\n",
    "\n",
    "start = int(input('Enter the starting number: '))\n",
    "end   = int(input('Enter the end number: '))\n",
    "print('Random Number generated is ',generate_random(start,end))"
   ]
  },
  {
   "cell_type": "code",
   "execution_count": null,
   "metadata": {},
   "outputs": [],
   "source": []
  }
 ],
 "metadata": {
  "kernelspec": {
   "display_name": "Python 3",
   "language": "python",
   "name": "python3"
  },
  "language_info": {
   "codemirror_mode": {
    "name": "ipython",
    "version": 3
   },
   "file_extension": ".py",
   "mimetype": "text/x-python",
   "name": "python",
   "nbconvert_exporter": "python",
   "pygments_lexer": "ipython3",
   "version": "3.7.6"
  }
 },
 "nbformat": 4,
 "nbformat_minor": 4
}
