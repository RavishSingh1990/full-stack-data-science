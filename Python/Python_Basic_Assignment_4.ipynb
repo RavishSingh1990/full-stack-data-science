{
 "cells": [
  {
   "cell_type": "code",
   "execution_count": null,
   "metadata": {},
   "outputs": [],
   "source": [
    "1.What exactly is []?\n",
    "\n",
    "Answer:\n",
    "\n",
    "This will create a empty list having no elements. for example\n",
    "\n",
    "l = []\n",
    "\n",
    "this will create a empty list l"
   ]
  },
  {
   "cell_type": "code",
   "execution_count": null,
   "metadata": {},
   "outputs": [],
   "source": [
    "2.In a list of values stored in a variable called spam, how would you assign the value 'hello' as the\n",
    "third value? (Assume [2, 4, 6, 8, 10] are in spam.)\n",
    "\n",
    "Answer:\n",
    "\n",
    "we can update the list using assignment operation using following\n",
    "\n",
    "spam[2]='hello'\n",
    "\n",
    "or we can use insert method as following\n",
    "\n",
    "spam.insert(2,'hello')"
   ]
  },
  {
   "cell_type": "code",
   "execution_count": null,
   "metadata": {},
   "outputs": [],
   "source": [
    "Let's pretend the spam includes the list ['a', 'b', 'c', 'd'] for the next three queries."
   ]
  },
  {
   "cell_type": "code",
   "execution_count": null,
   "metadata": {},
   "outputs": [],
   "source": [
    "3.What is the value of spam[int(int('3' * 2) / 11)]?\n",
    "\n",
    "Answer:\n",
    "\n",
    "\n",
    "spam[int(int('3' * 2) / 11)]\n",
    "\n",
    "here int('3'*2) will be 33\n",
    "\n",
    "int(33/11) will be 3\n",
    "\n",
    "so  spam[int(int('3' * 2) / 11)] will be spam(3) = 'd'"
   ]
  },
  {
   "cell_type": "code",
   "execution_count": null,
   "metadata": {},
   "outputs": [],
   "source": [
    "4.What is the value of spam[-1]?\n",
    "\n",
    "Answer:\n",
    "\n",
    "spam = ['a','b','c','d']\n",
    "\n",
    "spam[-1]\n",
    "\n",
    "'d'"
   ]
  },
  {
   "cell_type": "code",
   "execution_count": null,
   "metadata": {},
   "outputs": [],
   "source": [
    "5.What is the value of spam[:2]?\n",
    "\n",
    "Answer:\n",
    "\n",
    "spam = ['a','b','c','d']\n",
    "\n",
    "spam[:2]\n",
    "\n",
    "['a','b']"
   ]
  },
  {
   "cell_type": "code",
   "execution_count": null,
   "metadata": {},
   "outputs": [],
   "source": [
    "Let's pretend bacon has the list [3.14, 'cat', 11, 'cat', True] for the next three questions."
   ]
  },
  {
   "cell_type": "code",
   "execution_count": null,
   "metadata": {},
   "outputs": [],
   "source": [
    "6. What is the value of bacon.index('cat')?\n",
    "\n",
    "Answer\n",
    "\n",
    "bacon.index('cat') will give the index of the first occurence of cat, here it is 1"
   ]
  },
  {
   "cell_type": "markdown",
   "metadata": {},
   "source": [
    "7. How does bacon.append(99) change the look of the list value in bacon?\n",
    "\n",
    "Answer:\n",
    "\n",
    "here append function will append value 99 to the end of the list. so bacon.append(99) will give following list\n",
    "\n",
    "[3.14, 'cat', 11, 'cat', True, 99]"
   ]
  },
  {
   "cell_type": "code",
   "execution_count": null,
   "metadata": {},
   "outputs": [],
   "source": [
    "8. How does bacon.remove('cat') change the look of the list in bacon?\n",
    "\n",
    "Answer:\n",
    "\n",
    "this will remove the first occurence of the cat from list, so bacon.remove('cat') will give following list\n",
    "\n",
    "[3.14, 11, 'cat', True, 99]"
   ]
  },
  {
   "cell_type": "code",
   "execution_count": null,
   "metadata": {},
   "outputs": [],
   "source": [
    "9. What are the list concatenation and list replication operators?\n",
    "\n",
    "Answer:\n",
    "    \n",
    "list concatenation operator is +\n",
    "\n",
    "list replication operator is *\n",
    "\n"
   ]
  },
  {
   "cell_type": "code",
   "execution_count": null,
   "metadata": {},
   "outputs": [],
   "source": [
    "10. What is difference between the list methods append() and insert()?\n",
    "\n",
    "Answer:\n",
    "    \n",
    "Append adds element to a list at the last position,\n",
    "\n",
    "Insert accepts two arguements first is the index at which you want to add the element and second the \n",
    "element itself that you want to add in the list"
   ]
  },
  {
   "cell_type": "code",
   "execution_count": null,
   "metadata": {},
   "outputs": [],
   "source": [
    "11. What are the two methods for removing items from a list?\n",
    "\n",
    "Answer:\n",
    "    \n",
    "remove() method is used to remove the first occurence of the given element from the list.\n",
    "pop() method removes an element from the list based on the index given or it removes the \n",
    "last element from the list if no index is given.\n"
   ]
  },
  {
   "cell_type": "code",
   "execution_count": null,
   "metadata": {},
   "outputs": [],
   "source": [
    "12. Describe how list values and string values are identical.\n",
    "\n",
    "Answer:\n",
    "    \n",
    "Both list and strings are used for storing data.\n",
    "\n",
    "Elements in both list and strings can be accessed using index"
   ]
  },
  {
   "cell_type": "code",
   "execution_count": null,
   "metadata": {},
   "outputs": [],
   "source": [
    "13. What is the difference between tuples and lists?\n",
    "\n",
    "Answer:\n",
    "\n",
    "tuples are represented using ()\n",
    "list are represented using []\n",
    "\n",
    "tuples are immutable\n",
    "lists are mutable\n",
    "\n"
   ]
  },
  {
   "cell_type": "code",
   "execution_count": null,
   "metadata": {},
   "outputs": [],
   "source": [
    "14. How do you type a tuple value that only contains the integer 42?\n",
    "\n",
    "Answer:\n",
    "    \n",
    "    t = (42,)\n"
   ]
  },
  {
   "cell_type": "code",
   "execution_count": null,
   "metadata": {},
   "outputs": [],
   "source": [
    "15. How do you get a list value's tuple form? How do you get a tuple value's list form?\n",
    "\n",
    "Answer\n",
    "\n",
    "converting from list l to tuple\n",
    "    t1 = tuple(l)\n",
    "\n",
    "converting from tuple t to list\n",
    "    l1 = list(t)"
   ]
  },
  {
   "cell_type": "code",
   "execution_count": null,
   "metadata": {},
   "outputs": [],
   "source": [
    "16. Variables that \"contain\" list values are not necessarily lists themselves. Instead, what do they\n",
    "contain?\n",
    "\n",
    "Answer:\n",
    "    \n",
    "variable contains references to the list values.\n",
    "\n"
   ]
  },
  {
   "cell_type": "code",
   "execution_count": null,
   "metadata": {},
   "outputs": [],
   "source": [
    "17. How do you distinguish between copy.copy() and copy.deepcopy()?\n",
    "\n",
    "Answer:\n",
    "    \n",
    "copy.copy() perfoms shallow copy\n",
    "\n",
    "copy.deepcopy() performs deep copy"
   ]
  }
 ],
 "metadata": {
  "kernelspec": {
   "display_name": "Python 3",
   "language": "python",
   "name": "python3"
  },
  "language_info": {
   "codemirror_mode": {
    "name": "ipython",
    "version": 3
   },
   "file_extension": ".py",
   "mimetype": "text/x-python",
   "name": "python",
   "nbconvert_exporter": "python",
   "pygments_lexer": "ipython3",
   "version": "3.7.6"
  }
 },
 "nbformat": 4,
 "nbformat_minor": 4
}
