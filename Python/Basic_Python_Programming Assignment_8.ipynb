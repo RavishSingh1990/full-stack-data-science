{
 "cells": [
  {
   "cell_type": "code",
   "execution_count": 9,
   "metadata": {},
   "outputs": [
    {
     "name": "stdout",
     "output_type": "stream",
     "text": [
      "Matrix After Additon is  [[6, 6, 6, 6], [8, 8, 8, 8], [10, 10, 10, 10], [12, 12, 12, 12]]\n"
     ]
    }
   ],
   "source": [
    "#1. Write a Python Program to Add Two Matrices?\n",
    "\n",
    "def matrix_addition(A,B,C,n):\n",
    "    for i in range(n):\n",
    "        for j in range(n):\n",
    "            C[i][j] = A[i][j] + B[i][j]\n",
    "    return C\n",
    "\n",
    "#Defining Size of the matrix\n",
    "n = 4           \n",
    "\n",
    "A = [ [1, 1, 1, 1],\n",
    "    [2, 2, 2, 2],\n",
    "    [3, 3, 3, 3],\n",
    "    [4, 4, 4, 4]]\n",
    "  \n",
    "B = [ [5, 5, 5, 5],\n",
    "    [6,6, 6, 6],\n",
    "    [7, 7, 7, 7],\n",
    "    [8, 8, 8, 8]]\n",
    "# Creating a empty matrix of n*n\n",
    "C = [[0 for j in range(n)] for i in range(n)] \n",
    "print('Matrix After Additon is ',matrix_addition(A,B,C,n))\n"
   ]
  },
  {
   "cell_type": "code",
   "execution_count": 14,
   "metadata": {},
   "outputs": [
    {
     "name": "stdout",
     "output_type": "stream",
     "text": [
      "Input the row value for Matrix A 2\n",
      "Input the column value for Matrix A 3\n",
      "Input the row value for Matrix B 3\n",
      "Input the column value for Matrix B 2\n",
      "Enter the values for Matrix A \n",
      "1\n",
      "2\n",
      "3\n",
      "4\n",
      "5\n",
      "6\n",
      "Enter the values for Matrix B \n",
      "6\n",
      "5\n",
      "4\n",
      "3\n",
      "2\n",
      "1\n",
      "Matrix A is  [[1, 2, 3], [4, 5, 6]]\n",
      "Matrix B is  [[6, 5], [4, 3], [2, 1]]\n",
      "Matrix after multiplying A and B is  [[20, 14], [56, 41]]\n"
     ]
    }
   ],
   "source": [
    "#2. Write a Python Program to Multiply Two Matrices?\n",
    "def mul_matrix(A,B,C):\n",
    "    for i in range(len(A)):\n",
    "        for j in range(len(B[0])):\n",
    "            for k in range(len(B)):\n",
    "                C[i][j] += A[i][k] * B[k][j]\n",
    "    return C\n",
    "\n",
    "rowA = int(input('Input the row value for Matrix A '))\n",
    "colA = int(input('Input the column value for Matrix A '))\n",
    "rowB = int(input('Input the row value for Matrix B '))\n",
    "colB = int(input('Input the column value for Matrix B '))\n",
    "\n",
    "A = [[0 for j in range(colA)] for i in range(rowA)]\n",
    "B = [[0 for j in range(colB)] for i in range(rowB)]\n",
    "print('Enter the values for Matrix A ')\n",
    "for i in range(rowA):\n",
    "    for j in range(colA):\n",
    "        x = int(input())\n",
    "        A[i][j] = x\n",
    "\n",
    "print('Enter the values for Matrix B ')\n",
    "for i in range(rowB):\n",
    "    for j in range(colB):\n",
    "        x = int(input())\n",
    "        B[i][j] = x\n",
    "\n",
    "print('Matrix A is ',A)\n",
    "print('Matrix B is ',B)\n",
    "\n",
    "\n",
    "if colA == rowB:\n",
    "    C = [[0 for j in range(colB)] for i in range(rowA)]\n",
    "    print('Matrix after multiplying A and B is ',mul_matrix(A,B,C))\n",
    "else:\n",
    "    print('Matrix are not compatible for multiplication')"
   ]
  },
  {
   "cell_type": "code",
   "execution_count": 16,
   "metadata": {},
   "outputs": [
    {
     "name": "stdout",
     "output_type": "stream",
     "text": [
      "Input the row value for Matrix A 2\n",
      "Input the column value for Matrix A 3\n",
      "Enter the values for Matrix A \n",
      "1\n",
      "2\n",
      "3\n",
      "4\n",
      "5\n",
      "6\n",
      "Matrix entered is  [[1, 2, 3], [4, 5, 6]]\n",
      "Empty Matrix intialized for storing result  [[0, 0], [0, 0], [0, 0]]\n",
      "Matrix after Transpose is  [[1, 4], [2, 5], [3, 6]]\n"
     ]
    }
   ],
   "source": [
    "#3. Write a Python Program to Transpose a Matrix?\n",
    "def mat_transpose(A,AT):\n",
    "    for i in range(len(A)):\n",
    "        for j in range(len(A[0])):\n",
    "            AT[j][i] = A[i][j]\n",
    "    return AT\n",
    "\n",
    "rowA = int(input('Input the row value for Matrix A '))\n",
    "colA = int(input('Input the column value for Matrix A '))\n",
    "\n",
    "A = [[0 for j in range(colA)] for i in range(rowA)]\n",
    "\n",
    "print('Enter the values for Matrix A ')\n",
    "for i in range(rowA):\n",
    "    for j in range(colA):\n",
    "        x = int(input())\n",
    "        A[i][j] = x\n",
    "\n",
    "print('Matrix entered is ',A)\n",
    "AT = [[0 for j in range(rowA)] for i in range(colA)]\n",
    "print('Empty Matrix intialized for storing result ',AT)\n",
    "print('Matrix after Transpose is ',mat_transpose(A,AT))"
   ]
  },
  {
   "cell_type": "code",
   "execution_count": 19,
   "metadata": {},
   "outputs": [
    {
     "name": "stdout",
     "output_type": "stream",
     "text": [
      "Enter the string to be sortedthis is a great day for starting python learning\n",
      "String after sorting the words is \n",
      "a day for great is learning python starting this \n"
     ]
    }
   ],
   "source": [
    "#4. Write a Python Program to Sort Words in Alphabetic Order?\n",
    "\n",
    "def sort_words(s):\n",
    "    s1 = s.split()\n",
    "    s1.sort()\n",
    "    result_str = ''\n",
    "    for i in s1:\n",
    "        result_str = result_str + i + ' '\n",
    "    return result_str\n",
    "\n",
    "s = input('Enter the string to be sorted')\n",
    "print('String after sorting the words is ')\n",
    "print(sort_words(s))"
   ]
  },
  {
   "cell_type": "code",
   "execution_count": 23,
   "metadata": {},
   "outputs": [
    {
     "name": "stdout",
     "output_type": "stream",
     "text": [
      "Enter the string it's a ver-y beau!tiful da?y to lear_n pytho:n\n",
      "The original string is : it's a ver-y beau!tiful da?y to lear_n pytho:n\n",
      "The string after removing punctuations : its a very beautiful day to learn python\n"
     ]
    }
   ],
   "source": [
    "#5. Write a Python Program to Remove Punctuation From a String?\n",
    "def remove_punctuations(s,symbols):\n",
    "    for i in s:\n",
    "        if i in symbols:\n",
    "            s = s.replace(i, \"\")\n",
    "    return s\n",
    "\n",
    "s = input('Enter the string ')\n",
    "print(\"The original string is : \"+s)\n",
    "\n",
    "symbols = '''!()-[]{};:'\"\\,<>./?@#$%^&*_~'''\n",
    " \n",
    "print(\"The string after removing punctuations : \" +remove_punctuations(s,symbols))"
   ]
  },
  {
   "cell_type": "code",
   "execution_count": null,
   "metadata": {},
   "outputs": [],
   "source": []
  }
 ],
 "metadata": {
  "kernelspec": {
   "display_name": "Python 3",
   "language": "python",
   "name": "python3"
  },
  "language_info": {
   "codemirror_mode": {
    "name": "ipython",
    "version": 3
   },
   "file_extension": ".py",
   "mimetype": "text/x-python",
   "name": "python",
   "nbconvert_exporter": "python",
   "pygments_lexer": "ipython3",
   "version": "3.7.6"
  }
 },
 "nbformat": 4,
 "nbformat_minor": 4
}
