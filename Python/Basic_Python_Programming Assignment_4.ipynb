{
 "cells": [
  {
   "cell_type": "code",
   "execution_count": null,
   "metadata": {},
   "outputs": [],
   "source": [
    "#Write a Python Program to Find the Factorial of a Number?\n",
    "\n",
    "def factorial(number):\n",
    "    if number == 1:\n",
    "        return number\n",
    "    else:\n",
    "        return number*factorial(number-1)\n",
    "\n",
    "num = int(input('Enter the number '))\n",
    "print('Factorial of the Given number is ',factorial(num))"
   ]
  },
  {
   "cell_type": "code",
   "execution_count": null,
   "metadata": {},
   "outputs": [],
   "source": [
    "#Write a Python Program to Display the multiplication Table?\n",
    "\n",
    "def mul_table(n):\n",
    "    for i in range(1,11):\n",
    "        if i > 0:\n",
    "            print(n,' * ',i,' = ',i*n)\n",
    "        else:\n",
    "            print('Enter a number greater than zero')\n",
    "num = int(input('Enter the number '))\n",
    "mul_table(num)"
   ]
  },
  {
   "cell_type": "code",
   "execution_count": null,
   "metadata": {},
   "outputs": [],
   "source": [
    "#Write a Python Program to Print the Fibonacci sequence?\n",
    "\n",
    "def fibo(n):\n",
    "    a = 0\n",
    "    b = 1\n",
    "    if n == 1:\n",
    "        print(a)\n",
    "    else:\n",
    "        print(a,end=' ')\n",
    "        print(b,end=' ')\n",
    "        for i in range(2,n):\n",
    "            c = a + b\n",
    "            a = b\n",
    "            b = c\n",
    "            print(c,end=' ')\n",
    "num = int(input('Enter the length of the series '))\n",
    "fibo(num)\n",
    "    "
   ]
  },
  {
   "cell_type": "code",
   "execution_count": 15,
   "metadata": {},
   "outputs": [
    {
     "name": "stdout",
     "output_type": "stream",
     "text": [
      "Enter the number for Armstrong Check 2\n",
      "Given number is Armstrong Number\n"
     ]
    }
   ],
   "source": [
    "#Write a Python Program to Check Armstrong Number?\n",
    "import math as mt\n",
    "\n",
    "def count_digits(n):\n",
    "    n = str(n)\n",
    "    return len(n)\n",
    "\n",
    "def armstrong_check(num):\n",
    "    orig_number = num\n",
    "    t = 0\n",
    "    digit_len = count_digits(num)\n",
    "    while num > 0:\n",
    "        d = int(num % 10)\n",
    "        t = t + mt.pow(d,digit_len)\n",
    "        num = int(num / 10)\n",
    "        \n",
    "    if t == orig_number:\n",
    "        return 'Given number is Armstrong Number'\n",
    "    else:\n",
    "        return 'Given number is not Armstrong Number'\n",
    "\n",
    "num = int(input('Enter the number for Armstrong Check '))\n",
    "print(armstrong_check(num))"
   ]
  },
  {
   "cell_type": "code",
   "execution_count": 18,
   "metadata": {},
   "outputs": [
    {
     "name": "stdout",
     "output_type": "stream",
     "text": [
      "Enter the starting point 1\n",
      "Enter the End Point1000\n",
      "All the Armstrong Numbers are  [1, 2, 3, 4, 5, 6, 7, 8, 9, 153, 370, 371, 407]\n"
     ]
    }
   ],
   "source": [
    "#Write a Python Program to Find Armstrong Number in an Interval?\n",
    "\n",
    "def count_digits(n):\n",
    "    n = str(n)\n",
    "    return len(n)\n",
    "\n",
    "def armstrong_check(num):\n",
    "    orig_number = num\n",
    "    t = 0\n",
    "    digit_len = count_digits(num)\n",
    "    while num > 0:\n",
    "        d = int(num % 10)\n",
    "        t = t + mt.pow(d,digit_len)\n",
    "        num = int(num / 10)\n",
    "        \n",
    "    if t == orig_number:\n",
    "        return True\n",
    "    else:\n",
    "        return False\n",
    "\n",
    "def find_armstrong(start,end):\n",
    "    '''\n",
    "    nth powers of their digits (a finite sequence) are called Armstrong numbers or plus \n",
    "    perfect number and are given by 1, 2, 3, 4, 5, 6, 7, 8, 9, 153, 370, 371, 407, 1634, 8208\n",
    "    '''\n",
    "    lst = []\n",
    "    if start > end:\n",
    "        return 'Please enter a correct interval'\n",
    "    else:\n",
    "        for start in range(start,end+1):\n",
    "            flag = armstrong_check(start)\n",
    "            if flag == True:\n",
    "                lst.append(start)\n",
    "    return lst\n",
    "\n",
    "start = int(input('Enter the starting point '))\n",
    "end = int(input('Enter the End Point'))\n",
    "print('All the Armstrong Numbers are ',find_armstrong(start,end))\n",
    "            "
   ]
  },
  {
   "cell_type": "code",
   "execution_count": 19,
   "metadata": {},
   "outputs": [
    {
     "name": "stdout",
     "output_type": "stream",
     "text": [
      "Enter the limit for finding the sum100\n",
      "The sum of the  100  natural numbers is  5050.0\n"
     ]
    }
   ],
   "source": [
    "#Write a Python Program to Find the Sum of Natural Numbers?\n",
    "\n",
    "def sum_natural(limit):\n",
    "    result = (limit * ( limit + 1 ) ) / 2\n",
    "    return result\n",
    "\n",
    "limit = int(input('Enter the limit for finding the sum'))\n",
    "print('The sum of the ',limit,' natural numbers is ',sum_natural(limit))"
   ]
  },
  {
   "cell_type": "code",
   "execution_count": null,
   "metadata": {},
   "outputs": [],
   "source": []
  }
 ],
 "metadata": {
  "kernelspec": {
   "display_name": "Python 3",
   "language": "python",
   "name": "python3"
  },
  "language_info": {
   "codemirror_mode": {
    "name": "ipython",
    "version": 3
   },
   "file_extension": ".py",
   "mimetype": "text/x-python",
   "name": "python",
   "nbconvert_exporter": "python",
   "pygments_lexer": "ipython3",
   "version": "3.7.6"
  }
 },
 "nbformat": 4,
 "nbformat_minor": 4
}
