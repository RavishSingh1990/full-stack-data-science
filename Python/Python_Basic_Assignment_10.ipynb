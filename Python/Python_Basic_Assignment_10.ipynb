{
 "cells": [
  {
   "cell_type": "code",
   "execution_count": 8,
   "metadata": {},
   "outputs": [
    {
     "name": "stdout",
     "output_type": "stream",
     "text": [
      "Enter the file extension to be searched .csv\n",
      "Enter the source folder source\n",
      "Enter the destination folderdestination\n",
      "source folder  C:\\Users\\singhr\\DataScience\\INeuron\\source\n",
      "destination folder  C:\\Users\\singhr\\DataScience\\INeuron\\destination\n",
      "Copying file  C:\\Users\\singhr\\DataScience\\INeuron\\source/car.csv\n",
      "Copying file  C:\\Users\\singhr\\DataScience\\INeuron\\source/employees.csv\n",
      "Copying file  C:\\Users\\singhr\\DataScience\\INeuron\\source/glass.csv\n"
     ]
    }
   ],
   "source": [
    "#5. Create a programme that searches a folder tree for files with a certain file extension (such as .pdf\n",
    "#or .jpg). Copy these files from whatever location they are in to a new folder.\n",
    "\n",
    "import os\n",
    "import shutil\n",
    "\n",
    "def copy_files(source, file_ext, destination):\n",
    "    sourcefolder = os.path.abspath(source)\n",
    "    destFolder = os.path.abspath(destination)\n",
    "    print('source folder ',sourcefolder)\n",
    "    print('destination folder ',destFolder)\n",
    "    for foldername, subfolders, filenames in os.walk(sourcefolder):\n",
    "        for filename in filenames:\n",
    "            name, extension = os.path.splitext(filename)\n",
    "            if extension == file_ext:\n",
    "                absolutePath = foldername + \"/\" + filename\n",
    "                print('Copying file ',absolutePath)\n",
    "                shutil.copy(absolutePath, destFolder)\n",
    "\n",
    "ext = input('Enter the file extension to be searched ')\n",
    "sourcefolder = input('Enter the source folder ')\n",
    "destFolder = input('Enter the destination folder')\n",
    "copy_files(sourcefolder, ext, destFolder)"
   ]
  },
  {
   "cell_type": "code",
   "execution_count": null,
   "metadata": {},
   "outputs": [],
   "source": [
    "1. How do you distinguish between shutil.copy() and shutil.copytree()?\n",
    "Answer:\n",
    "\n",
    "shutil.copy() function will copy a single file\n",
    "shutil.copytree() will copy an entire folder, along with all its contents."
   ]
  },
  {
   "cell_type": "code",
   "execution_count": null,
   "metadata": {},
   "outputs": [],
   "source": [
    "2. What function is used to rename files?\n",
    "Answer:\n",
    "\n",
    "shutil.move() is used for renaming files"
   ]
  },
  {
   "cell_type": "code",
   "execution_count": null,
   "metadata": {},
   "outputs": [],
   "source": [
    "3. What is the difference between the delete functions in the send2trash and shutil modules?\n",
    "Answer:\n",
    "\n",
    "send2trash functions will move a file or folder to the recycle bin\n",
    "shutil functions will permanently delete files and folders."
   ]
  },
  {
   "cell_type": "code",
   "execution_count": null,
   "metadata": {},
   "outputs": [],
   "source": [
    "4.ZipFile objects have a close() method just like File objects’ close() method. What ZipFile method is\n",
    "equivalent to File objects’ open() method?\n",
    "Answer:\n",
    "\n",
    "zipfile.ZipFile()"
   ]
  }
 ],
 "metadata": {
  "kernelspec": {
   "display_name": "Python 3",
   "language": "python",
   "name": "python3"
  },
  "language_info": {
   "codemirror_mode": {
    "name": "ipython",
    "version": 3
   },
   "file_extension": ".py",
   "mimetype": "text/x-python",
   "name": "python",
   "nbconvert_exporter": "python",
   "pygments_lexer": "ipython3",
   "version": "3.7.6"
  }
 },
 "nbformat": 4,
 "nbformat_minor": 4
}
