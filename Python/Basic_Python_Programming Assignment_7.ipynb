{
 "cells": [
  {
   "cell_type": "code",
   "execution_count": 10,
   "metadata": {},
   "outputs": [
    {
     "name": "stdout",
     "output_type": "stream",
     "text": [
      "Enter the length of the Array 5\n",
      "Enter the element in the array 1\n",
      "Enter the element in the array 2\n",
      "Enter the element in the array 3\n",
      "Enter the element in the array 4\n",
      "Enter the element in the array 5\n",
      "The sum of the array [1, 2, 3, 4, 5] is 15 \n"
     ]
    }
   ],
   "source": [
    "#1. Write a Python Program to find sum of array?\n",
    "\n",
    "def arraySum(arr):\n",
    "    sum = 0\n",
    "    for i in range(len(arr)):\n",
    "        sum = sum + arr[i]\n",
    "    return sum\n",
    "\n",
    "arr = []\n",
    "n = int(input('Enter the length of the Array '))\n",
    "for i in range(n):\n",
    "    x = int(input('Enter the element in the array '))\n",
    "    arr.append(x)\n",
    "print('The sum of the array {} is {} '.format(arr,arraySum(arr)))"
   ]
  },
  {
   "cell_type": "code",
   "execution_count": 14,
   "metadata": {},
   "outputs": [
    {
     "name": "stdout",
     "output_type": "stream",
     "text": [
      "Enter the length of the Array 5\n",
      "Enter the element in the array 10\n",
      "Enter the element in the array 11\n",
      "Enter the element in the array 9\n",
      "Enter the element in the array 8\n",
      "Enter the element in the array 72\n",
      "The largest element of the array [10, 11, 9, 8, 72] is 72 \n"
     ]
    }
   ],
   "source": [
    "# 2. Write a Python Program to find largest element in an array?\n",
    "def largestElement(arr):\n",
    "    max = arr[0]\n",
    "    for i in range(len(arr)):\n",
    "        if arr[i] > max:\n",
    "            max = arr[i]\n",
    "    return max\n",
    "\n",
    "arr = []\n",
    "n = int(input('Enter the length of the Array '))\n",
    "for i in range(n):\n",
    "    x = int(input('Enter the element in the array '))\n",
    "    arr.append(x)\n",
    "print('The largest element of the array {} is {} '.format(arr,largestElement(arr)))"
   ]
  },
  {
   "cell_type": "code",
   "execution_count": 17,
   "metadata": {},
   "outputs": [
    {
     "name": "stdout",
     "output_type": "stream",
     "text": [
      "Enter the length of the Array 5\n",
      "Enter d by which the elements of the array will be rotated 3\n",
      "Enter the element in the array 1\n",
      "Enter the element in the array 2\n",
      "Enter the element in the array 3\n",
      "Enter the element in the array 4\n",
      "Enter the element in the array 5\n",
      "Rotated list is\n",
      "[4, 5, 1, 2, 3]\n"
     ]
    }
   ],
   "source": [
    "#3. Write a Python Program for array rotation?\n",
    "\n",
    "def rotateArray(arr,degree):\n",
    "    \n",
    "    n = len(arr)\n",
    "    if degree <= n:\n",
    "        arr[:]=arr[degree:n] + arr[0:degree]\n",
    "        return arr\n",
    "    else:\n",
    "        return 'Enter correct value for the degree'\n",
    "\n",
    "arr = []\n",
    "n = int(input('Enter the length of the Array '))\n",
    "d = int(input('Enter d by which the elements of the array will be rotated '))\n",
    "for i in range(n):\n",
    "    x = int(input('Enter the element in the array '))\n",
    "    arr.append(x)\n",
    "\n",
    "print(\"Rotated list is\")\n",
    "print(rotateArray(arr,d)) "
   ]
  },
  {
   "cell_type": "code",
   "execution_count": 20,
   "metadata": {},
   "outputs": [
    {
     "name": "stdout",
     "output_type": "stream",
     "text": [
      "Enter the length of the Array 5\n",
      "Enter the position at which the elements of the array will be splitted 3\n",
      "Enter the element in the array 1\n",
      "Enter the element in the array 2\n",
      "Enter the element in the array 3\n",
      "Enter the element in the array 4\n",
      "Enter the element in the array 5\n",
      "Array formed is  [1, 2, 3, 4, 5]\n",
      "Array after splitting is  [4, 5, 1, 2, 3]\n"
     ]
    }
   ],
   "source": [
    "#4. Write a Python Program to Split the array and add the first part to the end?\n",
    "\n",
    "def splitArray(arr,k):\n",
    "    if k < len(arr):\n",
    "        arr1 = arr[:k]\n",
    "        return (arr[k::]+arr1[::])\n",
    "    else:\n",
    "        return 'Please enter postion values less than length of Array'\n",
    "\n",
    "arr = []\n",
    "n = int(input('Enter the length of the Array '))\n",
    "position = int(input('Enter the position at which the elements of the array will be splitted '))\n",
    "for i in range(n):\n",
    "    x = int(input('Enter the element in the array '))\n",
    "    arr.append(x)\n",
    "\n",
    "print(\"Array formed is \",arr)\n",
    "print(\"Array after splitting is \",splitArray(arr,position))"
   ]
  },
  {
   "cell_type": "code",
   "execution_count": 28,
   "metadata": {},
   "outputs": [
    {
     "name": "stdout",
     "output_type": "stream",
     "text": [
      "Enter the length of the Array 5\n",
      "Enter the element in the array 5\n",
      "Enter the element in the array 1\n",
      "Enter the element in the array 3\n",
      "Enter the element in the array 2\n",
      "Enter the element in the array 4\n",
      "Array is not Monotonic\n"
     ]
    }
   ],
   "source": [
    "#5. Write a Python Program to check if given array is Monotonic?\n",
    "\n",
    "def monotonic(arr):\n",
    "    if len(arr) == 1:\n",
    "        return True\n",
    "    else:\n",
    "        if all(arr[i] >= arr[i+1] for i in range(0,n-1)) or all(arr[i] <= arr[i+1] for i in range(0,n-1)):\n",
    "            return True\n",
    "        else:\n",
    "            return False\n",
    "    \n",
    "\n",
    "arr = []\n",
    "n = int(input('Enter the length of the Array '))\n",
    "for i in range(n):\n",
    "    x = int(input('Enter the element in the array '))\n",
    "    arr.append(x)\n",
    "#print(monotonic(arr))\n",
    "if monotonic(arr) == True:\n",
    "    print('Array is Monotonic')\n",
    "else:\n",
    "    print('Array is not Monotonic')"
   ]
  },
  {
   "cell_type": "code",
   "execution_count": null,
   "metadata": {},
   "outputs": [],
   "source": []
  }
 ],
 "metadata": {
  "kernelspec": {
   "display_name": "Python 3",
   "language": "python",
   "name": "python3"
  },
  "language_info": {
   "codemirror_mode": {
    "name": "ipython",
    "version": 3
   },
   "file_extension": ".py",
   "mimetype": "text/x-python",
   "name": "python",
   "nbconvert_exporter": "python",
   "pygments_lexer": "ipython3",
   "version": "3.7.6"
  }
 },
 "nbformat": 4,
 "nbformat_minor": 4
}
